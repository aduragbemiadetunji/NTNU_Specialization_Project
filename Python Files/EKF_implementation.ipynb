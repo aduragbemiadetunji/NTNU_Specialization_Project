{
 "cells": [
  {
   "cell_type": "code",
   "execution_count": 37,
   "metadata": {},
   "outputs": [],
   "source": [
    "import numpy as np"
   ]
  },
  {
   "cell_type": "code",
   "execution_count": 38,
   "metadata": {},
   "outputs": [],
   "source": [
    "class ExtendedKalmanFilter:\n",
    "    def __init__(self, initial_state, initial_covariance, process_noise_covariance, measurement_noise_covariance, state_transition_function, observation_function):\n",
    "        self.state_estimate = initial_state\n",
    "        self.covariance_estimate = initial_covariance\n",
    "        self.Q = process_noise_covariance\n",
    "        self.R = measurement_noise_covariance\n",
    "        self.state_transition_function = state_transition_function\n",
    "        self.observation_function = observation_function\n",
    "\n",
    "    def predict(self):\n",
    "        # Predict step\n",
    "        # Update state estimate using the state transition function\n",
    "        self.state_estimate = self.state_transition_function(self.state_estimate) \n",
    "        # Update covariance estimate\n",
    "        self.covariance_estimate = np.dot(np.dot(self.state_transition_jacobian(), self.covariance_estimate),\n",
    "                                          self.state_transition_jacobian().T) + self.Q\n",
    "\n",
    "    def update(self, observed_measurement):\n",
    "        # Update step\n",
    "        # Calculate the Kalman gain\n",
    "        kalman_gain = np.dot(np.dot(self.covariance_estimate, self.observation_jacobian().T),\n",
    "                             np.linalg.inv(np.dot(np.dot(self.observation_jacobian(), self.covariance_estimate),\n",
    "                                                 self.observation_jacobian().T) + self.R))\n",
    "        # Update state estimate\n",
    "        self.state_estimate += np.dot(kalman_gain, (observed_measurement - self.observation_function(self.state_estimate)))\n",
    "        # Update covariance estimate\n",
    "        self.covariance_estimate = self.covariance_estimate - np.dot(np.dot(kalman_gain, self.observation_jacobian()),\n",
    "                                                                     self.covariance_estimate)\n",
    "\n",
    "    def state_transition_jacobian(self):\n",
    "        # Implement the Jacobian matrix for the state transition function\n",
    "        # This should be a 3x3 matrix for a 3-state system (position, velocity, acceleration)\n",
    "        # For a simple linear system, the Jacobian is just an identity matrix\n",
    "        return np.eye(8)\n",
    "\n",
    "    def observation_jacobian(self):\n",
    "        # Implement the Jacobian matrix for the observation function\n",
    "        # This should be a 3x3 matrix for a 3-state system\n",
    "        # For a simple linear measurement model, the Jacobian is also an identity matrix\n",
    "        return np.eye(8)"
   ]
  },
  {
   "cell_type": "code",
   "execution_count": 39,
   "metadata": {},
   "outputs": [],
   "source": [
    "\n",
    "\n",
    "# Define the initial state and covariance\n",
    "initial_state = np.array([0.0, 0.0, 0.0, 0.0, 0.0, 0.0, 0.0, 0.0])\n",
    "initial_covariance = np.eye(8)\n",
    "process_noise_covariance = 0.01 * np.eye(8)  # Process noise covariance\n",
    "measurement_noise_covariance = 0.1 * np.eye(8)  # Measurement noise covariance\n",
    "\n",
    "# Define the process noise covariance matrix Q and measurement noise covariance matrix R\n",
    "Q = np.eye(8)\n",
    "R = np.eye(4)\n",
    "\n",
    "# Define the state transition function and its Jacobian matrix\n",
    "def state_transition_function(state):\n",
    "    x, y, z, psi, u, v, w, r = state\n",
    "    tau1, tau2, tau3, tau4 = (1, 0, 0, 0)\n",
    "    # Given state transition function\n",
    "    return np.array([\n",
    "        np.cos(psi) * u - np.sin(psi) * v,\n",
    "        np.cos(psi) * v + np.sin(psi) * u,\n",
    "        w,\n",
    "        r,\n",
    "        (1315892839236077 * tau1) / 18014398509481984 - (1212595251356045 * u) / 9007199254740992 - 0.78804538217602188355025252290643 * r * v,\n",
    "        (5149134226861935 * tau2) / 144115188075855872 - (8187638334133163 * v) / 72057594037927936 - 0.12541456625279259105718470889351 * r * u,\n",
    "        (7356743338895695 * tau3) / 144115188075855872 + (1389688816717397 * w) / 72057594037927936,\n",
    "        (6305868816807027 * r) / 18014398509481984 + (1135129035283523 * tau4) / 281474976710656 + 57.662298912638639724630477211478 * u * v\n",
    "    ])\n",
    "\n",
    "def state_transition_jacobian(state):\n",
    "    # Given state transition Jacobian matrix\n",
    "    # Replace the symbolic expressions with their corresponding values\n",
    "    # Define this function appropriately using the symbolic values\n",
    "    return np.array([[0, 0, 0, -np.cos(state[3]) * state[5] - np.sin(state[3]) * state[4], np.cos(state[3]), -np.sin(state[3]), 0, 0],\n",
    "                     [0, 0, 0, np.cos(state[3]) * state[4] - np.sin(state[3]) * state[5], np.sin(state[3]), np.cos(state[3]), 0, 0],\n",
    "                     [0, 0, 0, 0, 0, 0, 1, 0],\n",
    "                     [0, 0, 0, 0, 0, 0, 0, 1],\n",
    "                     [0, 0, 0, 0, -0.13462511676066102328519491493353, -0.78804538217602188355025252290643 * state[7], 0, -0.78804538217602188355025252290643 * state[6]],\n",
    "                     [0, 0, 0, 0, -0.12541456625279259105718470889351 * state[7], -0.11362630744822747874689383706936, 0, -0.12541456625279259105718470889351 * state[4]],\n",
    "                     [0, 0, 0, 0, 0, 0, 1389688816717397 / 72057594037927936, 0],\n",
    "                     [0, 0, 0, 0, 57.662298912638639724630477211478 * state[5], 57.662298912638639724630477211478 * state[4], 0, 0.35004603753424773371349942863162]])\n",
    "\n",
    "# Define the observation function and its Jacobian matrix\n",
    "def observation_function(state):\n",
    "    return state[:4]\n",
    "\n",
    "def observation_jacobian(state):\n",
    "    return np.eye(4)\n"
   ]
  },
  {
   "cell_type": "code",
   "execution_count": 40,
   "metadata": {},
   "outputs": [
    {
     "ename": "ValueError",
     "evalue": "shapes (8,8) and (4,) not aligned: 8 (dim 1) != 4 (dim 0)",
     "output_type": "error",
     "traceback": [
      "\u001b[0;31m---------------------------------------------------------------------------\u001b[0m",
      "\u001b[0;31mValueError\u001b[0m                                Traceback (most recent call last)",
      "Cell \u001b[0;32mIn[40], line 10\u001b[0m\n\u001b[1;32m      8\u001b[0m     ekf\u001b[39m.\u001b[39mpredict()\n\u001b[1;32m      9\u001b[0m     observed_measurement \u001b[39m=\u001b[39m np\u001b[39m.\u001b[39marray([\u001b[39m10.0\u001b[39m, \u001b[39m2.0\u001b[39m, \u001b[39m1.0\u001b[39m, \u001b[39m1.0\u001b[39m])  \u001b[39m# Simulated measurement\u001b[39;00m\n\u001b[0;32m---> 10\u001b[0m     ekf\u001b[39m.\u001b[39;49mupdate(observed_measurement)\n\u001b[1;32m     12\u001b[0m \u001b[39m# The final state estimate and covariance estimate\u001b[39;00m\n\u001b[1;32m     13\u001b[0m final_state_estimate \u001b[39m=\u001b[39m ekf\u001b[39m.\u001b[39mstate_estimate\n",
      "Cell \u001b[0;32mIn[38], line 25\u001b[0m, in \u001b[0;36mExtendedKalmanFilter.update\u001b[0;34m(self, observed_measurement)\u001b[0m\n\u001b[1;32m     21\u001b[0m kalman_gain \u001b[39m=\u001b[39m np\u001b[39m.\u001b[39mdot(np\u001b[39m.\u001b[39mdot(\u001b[39mself\u001b[39m\u001b[39m.\u001b[39mcovariance_estimate, \u001b[39mself\u001b[39m\u001b[39m.\u001b[39mobservation_jacobian()\u001b[39m.\u001b[39mT),\n\u001b[1;32m     22\u001b[0m                      np\u001b[39m.\u001b[39mlinalg\u001b[39m.\u001b[39minv(np\u001b[39m.\u001b[39mdot(np\u001b[39m.\u001b[39mdot(\u001b[39mself\u001b[39m\u001b[39m.\u001b[39mobservation_jacobian(), \u001b[39mself\u001b[39m\u001b[39m.\u001b[39mcovariance_estimate),\n\u001b[1;32m     23\u001b[0m                                          \u001b[39mself\u001b[39m\u001b[39m.\u001b[39mobservation_jacobian()\u001b[39m.\u001b[39mT) \u001b[39m+\u001b[39m \u001b[39mself\u001b[39m\u001b[39m.\u001b[39mR))\n\u001b[1;32m     24\u001b[0m \u001b[39m# Update state estimate\u001b[39;00m\n\u001b[0;32m---> 25\u001b[0m \u001b[39mself\u001b[39m\u001b[39m.\u001b[39mstate_estimate \u001b[39m+\u001b[39m\u001b[39m=\u001b[39m np\u001b[39m.\u001b[39;49mdot(kalman_gain, (observed_measurement \u001b[39m-\u001b[39;49m \u001b[39mself\u001b[39;49m\u001b[39m.\u001b[39;49mobservation_function(\u001b[39mself\u001b[39;49m\u001b[39m.\u001b[39;49mstate_estimate)))\n\u001b[1;32m     26\u001b[0m \u001b[39m# Update covariance estimate\u001b[39;00m\n\u001b[1;32m     27\u001b[0m \u001b[39mself\u001b[39m\u001b[39m.\u001b[39mcovariance_estimate \u001b[39m=\u001b[39m \u001b[39mself\u001b[39m\u001b[39m.\u001b[39mcovariance_estimate \u001b[39m-\u001b[39m np\u001b[39m.\u001b[39mdot(np\u001b[39m.\u001b[39mdot(kalman_gain, \u001b[39mself\u001b[39m\u001b[39m.\u001b[39mobservation_jacobian()),\n\u001b[1;32m     28\u001b[0m                                                              \u001b[39mself\u001b[39m\u001b[39m.\u001b[39mcovariance_estimate)\n",
      "\u001b[0;31mValueError\u001b[0m: shapes (8,8) and (4,) not aligned: 8 (dim 1) != 4 (dim 0)"
     ]
    }
   ],
   "source": [
    "# Create an EKF instance\n",
    "ekf = ExtendedKalmanFilter(initial_state, initial_covariance, process_noise_covariance,\n",
    "                           measurement_noise_covariance, state_transition_function, observation_function)\n",
    "\n",
    "# Perform EKF iterations (predict and update)\n",
    "num_iterations = 100\n",
    "for _ in range(num_iterations):\n",
    "    ekf.predict()\n",
    "    observed_measurement = np.array([10.0, 2.0, 1.0, 1.0])  # Simulated measurement\n",
    "    ekf.update(observed_measurement)\n",
    "\n",
    "# The final state estimate and covariance estimate\n",
    "final_state_estimate = ekf.state_estimate\n",
    "final_covariance_estimate = ekf.covariance_estimate\n",
    "print(f\"Final state estimate: {final_state_estimate}\")\n",
    "print(f\"Final covariance estimate: {final_covariance_estimate}\")"
   ]
  }
 ],
 "metadata": {
  "kernelspec": {
   "display_name": "Python 3.10.13 64-bit",
   "language": "python",
   "name": "python3"
  },
  "language_info": {
   "codemirror_mode": {
    "name": "ipython",
    "version": 3
   },
   "file_extension": ".py",
   "mimetype": "text/x-python",
   "name": "python",
   "nbconvert_exporter": "python",
   "pygments_lexer": "ipython3",
   "version": "3.10.13"
  },
  "orig_nbformat": 4,
  "vscode": {
   "interpreter": {
    "hash": "bd385fe162c5ca0c84973b7dd5c518456272446b2b64e67c2a69f949ca7a1754"
   }
  }
 },
 "nbformat": 4,
 "nbformat_minor": 2
}
