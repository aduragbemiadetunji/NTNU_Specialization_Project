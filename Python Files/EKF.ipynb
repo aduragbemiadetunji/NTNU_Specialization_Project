{
 "cells": [
  {
   "cell_type": "code",
   "execution_count": 5,
   "metadata": {},
   "outputs": [],
   "source": [
    "import numpy as np\n",
    "\n",
    "class ExtendedKalmanFilter:\n",
    "    def __init__(self, initial_state, initial_covariance, process_noise_covariance, measurement_noise_covariance, state_transition_function, observation_function):\n",
    "        self.state_estimate = initial_state\n",
    "        self.covariance_estimate = initial_covariance\n",
    "        self.Q = process_noise_covariance\n",
    "        self.R = measurement_noise_covariance\n",
    "        self.state_transition_function = state_transition_function\n",
    "        self.observation_function = observation_function\n",
    "\n",
    "    def predict(self):\n",
    "        # Predict step\n",
    "        # Update state estimate using the state transition function\n",
    "        self.state_estimate = self.state_transition_function(self.state_estimate) \n",
    "        # Update covariance estimate\n",
    "        self.covariance_estimate = np.dot(np.dot(self.state_transition_jacobian(), self.covariance_estimate),\n",
    "                                          self.state_transition_jacobian().T) + self.Q\n",
    "\n",
    "    def update(self, observed_measurement):\n",
    "        # Update step\n",
    "        # Calculate the Kalman gain\n",
    "        kalman_gain = np.dot(np.dot(self.covariance_estimate, self.observation_jacobian().T),\n",
    "                             np.linalg.inv(np.dot(np.dot(self.observation_jacobian(), self.covariance_estimate),\n",
    "                                                 self.observation_jacobian().T) + self.R))\n",
    "        # Update state estimate\n",
    "        self.state_estimate += np.dot(kalman_gain, (observed_measurement - self.observation_function(self.state_estimate)))\n",
    "        # Update covariance estimate\n",
    "        self.covariance_estimate = self.covariance_estimate - np.dot(np.dot(kalman_gain, self.observation_jacobian()),\n",
    "                                                                     self.covariance_estimate)\n",
    "\n",
    "    def state_transition_jacobian(self):\n",
    "        # Implement the Jacobian matrix for the state transition function\n",
    "        # This should be a 3x3 matrix for a 3-state system (position, velocity, acceleration)\n",
    "        # For a simple linear system, the Jacobian is just an identity matrix\n",
    "        return np.eye(3)\n",
    "\n",
    "    def observation_jacobian(self):\n",
    "        # Implement the Jacobian matrix for the observation function\n",
    "        # This should be a 3x3 matrix for a 3-state system\n",
    "        # For a simple linear measurement model, the Jacobian is also an identity matrix\n",
    "        return np.eye(3)"
   ]
  },
  {
   "cell_type": "code",
   "execution_count": 6,
   "metadata": {},
   "outputs": [],
   "source": [
    "# Example usage\n",
    "initial_state = np.array([0.0, 0.0, 0.0])  # Initial position, velocity, and acceleration\n",
    "initial_covariance = np.eye(3)  # Initial covariance matrix\n",
    "process_noise_covariance = 0.01 * np.eye(3)  # Process noise covariance\n",
    "measurement_noise_covariance = 0.1 * np.eye(3)  # Measurement noise covariance"
   ]
  },
  {
   "cell_type": "code",
   "execution_count": 7,
   "metadata": {},
   "outputs": [],
   "source": [
    "# Define state transition and observation functions for the linear system\n",
    "def state_transition_function(state):\n",
    "    # In this simple linear system, we assume constant velocity and acceleration\n",
    "    return np.array([state[0] + state[1], state[1], state[2]])\n",
    "\n",
    "def observation_function(state):\n",
    "    # The observation is a direct measurement of the state\n",
    "    return state"
   ]
  },
  {
   "cell_type": "code",
   "execution_count": 8,
   "metadata": {},
   "outputs": [
    {
     "name": "stdout",
     "output_type": "stream",
     "text": [
      "Final state estimate: [15.40312424  2.          1.        ]\n",
      "Final covariance estimate: [[0.02701562 0.         0.        ]\n",
      " [0.         0.02701562 0.        ]\n",
      " [0.         0.         0.02701562]]\n"
     ]
    }
   ],
   "source": [
    "# Create an EKF instance\n",
    "ekf = ExtendedKalmanFilter(initial_state, initial_covariance, process_noise_covariance,\n",
    "                           measurement_noise_covariance, state_transition_function, observation_function)\n",
    "\n",
    "# Perform EKF iterations (predict and update)\n",
    "num_iterations = 100\n",
    "for _ in range(num_iterations):\n",
    "    ekf.predict()\n",
    "    observed_measurement = np.array([10.0, 2.0, 1.0])  # Simulated measurement\n",
    "    ekf.update(observed_measurement)\n",
    "\n",
    "# The final state estimate and covariance estimate\n",
    "final_state_estimate = ekf.state_estimate\n",
    "final_covariance_estimate = ekf.covariance_estimate\n",
    "print(f\"Final state estimate: {final_state_estimate}\")\n",
    "print(f\"Final covariance estimate: {final_covariance_estimate}\")\n"
   ]
  },
  {
   "cell_type": "code",
   "execution_count": null,
   "metadata": {},
   "outputs": [],
   "source": [
    "# Example usage\n",
    "init_state_be = np.array([0.0, 0.0, 0.0, 0.0, 0.0, 0.0, 0.0, 0.0, 0.0, 0.0, 0.0, 0.0])  # Initial position, velocity, and acceleration\n",
    "init_covariance_be = np.eye(12)  # Initial covariance matrix\n",
    "process_noise_covariance_be = 0.01 * np.eye(12)  # Process noise covariance\n",
    "measurement_noise_covariance_be = 0.1 * np.eye(12)  # Measurement noise covariance"
   ]
  },
  {
   "cell_type": "code",
   "execution_count": null,
   "metadata": {},
   "outputs": [],
   "source": [
    "# Create an EKF instance\n",
    "ekf = ExtendedKalmanFilter(init_state_be, init_covariance_be, process_noise_covariance_be,\n",
    "                           measurement_noise_covariance_be, state_transition_function, observation_function)"
   ]
  }
 ],
 "metadata": {
  "kernelspec": {
   "display_name": "Python 3.9.15 ('base')",
   "language": "python",
   "name": "python3"
  },
  "language_info": {
   "codemirror_mode": {
    "name": "ipython",
    "version": 3
   },
   "file_extension": ".py",
   "mimetype": "text/x-python",
   "name": "python",
   "nbconvert_exporter": "python",
   "pygments_lexer": "ipython3",
   "version": "3.9.15"
  },
  "orig_nbformat": 4,
  "vscode": {
   "interpreter": {
    "hash": "69796e46254906035411fdbe298b2d741b495483194b978a87bc7b7959bc7e61"
   }
  }
 },
 "nbformat": 4,
 "nbformat_minor": 2
}
